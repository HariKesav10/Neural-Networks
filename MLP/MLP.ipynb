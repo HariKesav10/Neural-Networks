{
 "cells": [
  {
   "cell_type": "code",
   "execution_count": 1,
   "metadata": {},
   "outputs": [],
   "source": [
    "import pandas as pd\n",
    "import numpy as np\n",
    "import matplotlib.pyplot as plt\n",
    "import json "
   ]
  },
  {
   "cell_type": "code",
   "execution_count": 2,
   "metadata": {},
   "outputs": [
    {
     "name": "stdout",
     "output_type": "stream",
     "text": [
      "0.1\n",
      "1\n",
      "32\n",
      "['input', 'hidden', 'output']\n",
      "[3, 2, 2]\n",
      "['sigmoid', 'sigmoid']\n"
     ]
    }
   ],
   "source": [
    "with open('MLP.json','r') as f:\n",
    "    data=json.load(f)\n",
    "type=[]\n",
    "neurons=[]\n",
    "actfunc=[]\n",
    "for i in range(len(data[\"layers\"])):\n",
    "    temp=data[\"layers\"][i]   \n",
    "    if temp[\"type\"]==\"input\":\n",
    "        type.append(temp[\"type\"])\n",
    "        neurons.append(temp[\"neurons\"])\n",
    "    else:\n",
    "        type.append(temp[\"type\"])\n",
    "        neurons.append(temp[\"neurons\"])\n",
    "        actfunc.append(temp[\"activation\"])\n",
    "\n",
    "lr=data[\"learning_rate\"]\n",
    "epoch=data[\"epochs\"]\n",
    "bs=data[\"batch_size\"]\n",
    "print(lr)\n",
    "print(epoch)\n",
    "print(bs)\n",
    "print(type)\n",
    "print(neurons)\n",
    "print(actfunc)"
   ]
  },
  {
   "cell_type": "code",
   "execution_count": 4,
   "metadata": {},
   "outputs": [
    {
     "name": "stdout",
     "output_type": "stream",
     "text": [
      "[[1.0, 0.97, 0.55], [0.6699222727026629, 0.5529874999569151, 0.5013708009384732], [0.6677140333136158, 0.7206522679335396, 0.5342165457062351]]\n"
     ]
    }
   ],
   "source": [
    "inp=[]\n",
    "temp=[]\n",
    "op=[]\n",
    "weight=[[0.71,0.22,0.01],[0.7,0.98,0.25],[0.43,0.2,0.98],[0.78,0.86,0.16]]\n",
    "ws=0\n",
    "for i in range(neurons[0]):\n",
    "    temp.append(float(input(\"Enter input value for neuron:\")))\n",
    "inp.append(temp)\n",
    "temp=[]\n",
    "# for i in range(len(neurons)):\n",
    "#     weight.append(np.random.rand(neurons[i]))\n",
    "# len(neurons)-1\n",
    "for k in range(1):\n",
    "    for i in range(neurons[1]):\n",
    "        for j in range(neurons[0]):\n",
    "            ws+=inp[k][j]*weight[i][j]\n",
    "        # if actfunc[i]==\"sigmoid\":\n",
    "            t=0\n",
    "            t=1+(2.71**(-ws))\n",
    "            t=1/t \n",
    "            ws=0\n",
    "            temp.append(t)\n",
    "        # if k!=len(neurons)-1:\n",
    "        inp.append(temp)\n",
    "        # else:\n",
    "            # op.append(temp)\n",
    "        temp=[]\n",
    "print(inp)\n",
    "\n",
    "# print(ws)"
   ]
  },
  {
   "cell_type": "code",
   "execution_count": 6,
   "metadata": {},
   "outputs": [
    {
     "name": "stdout",
     "output_type": "stream",
     "text": [
      "neurons: 4\n",
      "neurons: 4\n",
      "neurons: 2\n"
     ]
    }
   ],
   "source": [
    "j=0\n",
    "ws=0\n",
    "weightedsum=[]\n",
    "input=[]\n",
    "weight=[]\n",
    "    \n",
    "for i in range(len(df1)):\n",
    "    for j in range(len(df1.columns)):\n",
    "        if df1.columns[j]==\"input\":\n",
    "            neuron=df1.iloc[i,1]\n",
    "            for i in range(neuron):\n",
    "                input[i]=int(input(\"Enter input value for\",i,\"th neuron:\"))\n",
    "                weight[i]=int(input(\"Enter the Weight for\",i,\"th neuron:\"))\n",
    "            for i in range(neuron):\n",
    "                if i==0:\n",
    "                    ws+=weight[i]\n",
    "                else:\n",
    "                    ws+=input[i]*weight[i]\n",
    "            weightedsum[i]=ws \n",
    "        elif df1.columns[j]==\"hidden\":\n",
    "            activation=df1.iloc[i,2]\n",
    "            if activation==\"sigmoid\":\n",
    "                temp=1+2.71**-weightedsum[]\n",
    "            neuron=df1.iloc[i,1]\n",
    "            \n",
    "                \n",
    "    #         for i in neuron:\n",
    "    print(f\"{df1.columns[1]}: {df1.iloc[i, 1]}\")\n",
    "            # for i in df1.columns[]    \n",
    "    \n",
    "    \n"
   ]
  }
 ],
 "metadata": {
  "kernelspec": {
   "display_name": "nndl",
   "language": "python",
   "name": "python3"
  },
  "language_info": {
   "codemirror_mode": {
    "name": "ipython",
    "version": 3
   },
   "file_extension": ".py",
   "mimetype": "text/x-python",
   "name": "python",
   "nbconvert_exporter": "python",
   "pygments_lexer": "ipython3",
   "version": "3.11.4"
  }
 },
 "nbformat": 4,
 "nbformat_minor": 2
}
